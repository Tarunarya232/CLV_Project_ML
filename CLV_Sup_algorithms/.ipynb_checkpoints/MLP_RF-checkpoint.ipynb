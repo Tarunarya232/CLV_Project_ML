{
 "cells": [
  {
   "cell_type": "code",
   "execution_count": null,
   "metadata": {
    "colab": {
     "base_uri": "https://localhost:8080/"
    },
    "id": "KeNs8Zd7LQEQ",
    "outputId": "ddb2e7ea-1f6d-452c-b92e-565b8e58dd70"
   },
   "outputs": [
    {
     "name": "stdout",
     "output_type": "stream",
     "text": [
      "         Age  Gender  Income Customer_Segment  Total_Purchases      Amount  \\\n",
      "0       21.0    Male     Low          Regular              3.0  108.028757   \n",
      "1       19.0  Female     Low          Premium              2.0  403.353907   \n",
      "2       48.0    Male     Low          Regular              3.0  354.477600   \n",
      "3       56.0    Male    High          Premium              7.0  352.407717   \n",
      "4       22.0    Male     Low          Premium              2.0  124.276524   \n",
      "...      ...     ...     ...              ...              ...         ...   \n",
      "302005  31.0    Male  Medium          Regular              5.0  194.792597   \n",
      "302006  35.0  Female     Low              New              1.0  285.137301   \n",
      "302007  41.0    Male     Low          Premium              3.0   60.701761   \n",
      "302008  41.0    Male  Medium              New              1.0  120.834784   \n",
      "302009  28.0  Female     Low          Premium              7.0  340.319059   \n",
      "\n",
      "        Total_Amount Product_Category  Product_Brand Product_Type  \\\n",
      "0         324.086270         Clothing           Nike       Shorts   \n",
      "1         806.707815      Electronics        Samsung       Tablet   \n",
      "2        1063.432799            Books  Penguin Books   Children's   \n",
      "3        2466.854021       Home Decor     Home Depot        Tools   \n",
      "4         248.553049          Grocery         Nestle    Chocolate   \n",
      "...              ...              ...            ...          ...   \n",
      "302005    973.962984            Books  Penguin Books      Fiction   \n",
      "302006    285.137301      Electronics          Apple       Laptop   \n",
      "302007    182.105285         Clothing         Adidas       Jacket   \n",
      "302008    120.834784       Home Decor           IKEA    Furniture   \n",
      "302009   2382.233417       Home Decor     Home Depot  Decorations   \n",
      "\n",
      "       Shipping_Method Payment_Method  Ratings  \n",
      "0             Same-Day     Debit Card      5.0  \n",
      "1             Standard    Credit Card      4.0  \n",
      "2             Same-Day    Credit Card      2.0  \n",
      "3             Standard         PayPal      4.0  \n",
      "4             Standard           Cash      1.0  \n",
      "...                ...            ...      ...  \n",
      "302005        Same-Day           Cash      1.0  \n",
      "302006        Same-Day           Cash      5.0  \n",
      "302007         Express           Cash      2.0  \n",
      "302008        Standard           Cash      4.0  \n",
      "302009        Same-Day           Cash      2.0  \n",
      "\n",
      "[302010 rows x 13 columns]\n"
     ]
    }
   ],
   "source": [
    "#1\n",
    "import pandas as pd\n",
    "\n",
    "# Load the dataset with low_memory=False to avoid mixed type warnings\n",
    "data = pd.read_csv('data.csv', low_memory=False)\n",
    "\n",
    "# Step 1: Drop Irrelevant Columns\n",
    "columns_to_drop = [\n",
    "    'Transaction_ID', 'Customer_ID', 'Name', 'Email', 'Phone',\n",
    "    'Address', 'Zipcode', 'products', 'Order_Status', 'Date', 'Time',\n",
    "    'Month', 'Year', 'Feedback', 'City', 'State', 'Country'\n",
    "]\n",
    "data = data.drop(columns=columns_to_drop, axis=1)\n",
    "\n",
    "# Display the remaining data\n",
    "print(data)"
   ]
  },
  {
   "cell_type": "code",
   "execution_count": null,
   "metadata": {
    "colab": {
     "base_uri": "https://localhost:8080/"
    },
    "id": "JzE-dSsxLhhd",
    "outputId": "c606d273-da2f-4630-cdd7-d9b568a3e491"
   },
   "outputs": [
    {
     "name": "stdout",
     "output_type": "stream",
     "text": [
      "All missing values have been handled successfully.\n",
      "\n",
      "Sample of the processed data:\n",
      "    Age  Gender Income Customer_Segment  Total_Purchases      Amount  \\\n",
      "0  21.0    Male    Low          Regular              3.0  108.028757   \n",
      "1  19.0  Female    Low          Premium              2.0  403.353907   \n",
      "2  48.0    Male    Low          Regular              3.0  354.477600   \n",
      "3  56.0    Male   High          Premium              7.0  352.407717   \n",
      "4  22.0    Male    Low          Premium              2.0  124.276524   \n",
      "\n",
      "   Total_Amount Product_Category  Product_Brand Product_Type Shipping_Method  \\\n",
      "0    324.086270         Clothing           Nike       Shorts        Same-Day   \n",
      "1    806.707815      Electronics        Samsung       Tablet        Standard   \n",
      "2   1063.432799            Books  Penguin Books   Children's        Same-Day   \n",
      "3   2466.854021       Home Decor     Home Depot        Tools        Standard   \n",
      "4    248.553049          Grocery         Nestle    Chocolate        Standard   \n",
      "\n",
      "  Payment_Method  Ratings  \n",
      "0     Debit Card      5.0  \n",
      "1    Credit Card      4.0  \n",
      "2    Credit Card      2.0  \n",
      "3         PayPal      4.0  \n",
      "4           Cash      1.0  \n"
     ]
    }
   ],
   "source": [
    "# Step 2: Handle Missing Values\n",
    "# Create a copy to avoid chained assignments\n",
    "data_copy = data.copy()\n",
    "\n",
    "# Fill categorical columns with the mode\n",
    "for col in data_copy.select_dtypes(include=['object']).columns:\n",
    "    mode_value = data_copy[col].mode()[0]\n",
    "    data_copy[col] = data_copy[col].fillna(mode_value)\n",
    "\n",
    "# Fill numerical columns with the mean\n",
    "for col in data_copy.select_dtypes(include=['int64', 'float64']).columns:\n",
    "    mean_value = data_copy[col].mean()\n",
    "    data_copy[col] = data_copy[col].fillna(mean_value)\n",
    "\n",
    "# Update the original data\n",
    "data = data_copy\n",
    "\n",
    "# Step 3: Verify if any missing values remain\n",
    "missing_values = data.isnull().sum()\n",
    "\n",
    "# Print columns with missing values, if any\n",
    "if missing_values.any():\n",
    "    print(\"Columns with missing values:\")\n",
    "    print(missing_values[missing_values > 0])\n",
    "else:\n",
    "    print(\"All missing values have been handled successfully.\")\n",
    "\n",
    "# Optional: Display a sample of the processed data\n",
    "print(\"\\nSample of the processed data:\")\n",
    "print(data.head())\n",
    "\n"
   ]
  },
  {
   "cell_type": "code",
   "execution_count": null,
   "metadata": {
    "colab": {
     "base_uri": "https://localhost:8080/"
    },
    "id": "4TndnkTZLiW1",
    "outputId": "7d842ef8-8328-4ee8-94f8-9d5bfce4b6af"
   },
   "outputs": [
    {
     "name": "stdout",
     "output_type": "stream",
     "text": [
      "CLV_Class\n",
      "Mid     34.000199\n",
      "Low     32.999901\n",
      "High    32.999901\n",
      "Name: proportion, dtype: float64\n"
     ]
    }
   ],
   "source": [
    "#4\n",
    "# Ensure no missing values and avoid SettingWithCopyWarning\n",
    "data_cleaned = data.dropna().copy()\n",
    "\n",
    "# Set quantile thresholds for each class\n",
    "top_10 = data_cleaned['Total_Amount'].quantile(0.67)  # Top 10% -> High\n",
    "mid_60 = data_cleaned['Total_Amount'].quantile(0.33)  # Next 50% -> Mid\n",
    "\n",
    "# Function to assign segment based on new proportions\n",
    "def assign_segment_fixed(total_amount):\n",
    "    if total_amount >= top_10:\n",
    "        return 'High'\n",
    "    elif total_amount >= mid_60:\n",
    "        return 'Mid'\n",
    "    else:\n",
    "        return 'Low'\n",
    "\n",
    "# Apply the new segment assignment\n",
    "data_cleaned['CLV_Class'] = data_cleaned['Total_Amount'].apply(assign_segment_fixed)\n",
    "\n",
    "# Check the new class distribution\n",
    "print(data_cleaned['CLV_Class'].value_counts(normalize=True) * 100)  # Display in percentages"
   ]
  },
  {
   "cell_type": "code",
   "execution_count": null,
   "metadata": {
    "colab": {
     "base_uri": "https://localhost:8080/"
    },
    "id": "wwGQvm6ML_Ul",
    "outputId": "6246bdb4-5211-43a8-9a10-fa34cbc3242e"
   },
   "outputs": [
    {
     "name": "stdout",
     "output_type": "stream",
     "text": [
      "    Age  Gender Income Customer_Segment  Total_Purchases      Amount  \\\n",
      "0  21.0    Male    Low          Regular              3.0  108.028757   \n",
      "1  19.0  Female    Low          Premium              2.0  403.353907   \n",
      "2  48.0    Male    Low          Regular              3.0  354.477600   \n",
      "3  56.0    Male   High          Premium              7.0  352.407717   \n",
      "4  22.0    Male    Low          Premium              2.0  124.276524   \n",
      "\n",
      "   Total_Amount Product_Category  Product_Brand Product_Type Shipping_Method  \\\n",
      "0    324.086270         Clothing           Nike       Shorts        Same-Day   \n",
      "1    806.707815      Electronics        Samsung       Tablet        Standard   \n",
      "2   1063.432799            Books  Penguin Books   Children's        Same-Day   \n",
      "3   2466.854021       Home Decor     Home Depot        Tools        Standard   \n",
      "4    248.553049          Grocery         Nestle    Chocolate        Standard   \n",
      "\n",
      "  Payment_Method  Ratings  \n",
      "0     Debit Card      5.0  \n",
      "1    Credit Card      4.0  \n",
      "2    Credit Card      2.0  \n",
      "3         PayPal      4.0  \n",
      "4           Cash      1.0  \n"
     ]
    }
   ],
   "source": [
    "# Step 9: Final Check and Save Processed Data\n",
    "print(data.head())  # Preview the data to ensure it looks good\n",
    "# Randomly select 100,000 entries from the dataset\n",
    "# sampled_data = data.sample(n=200000, random_state=42)\n",
    "# sampled_data.to_csv('/Users/tarunkumararya/ML_Project/processed_retail_data.csv', index=False)\n",
    "\n",
    "# print(\"Data preprocessing completed and saved as 'processed_retail_data.csv'.\")\n",
    "# print(sampled_data.shape)"
   ]
  },
  {
   "cell_type": "code",
   "execution_count": null,
   "metadata": {
    "colab": {
     "base_uri": "https://localhost:8080/"
    },
    "id": "RkaG4VhAME_j",
    "outputId": "c9e3d477-e595-4e17-8bd8-bc492945731e"
   },
   "outputs": [
    {
     "name": "stdout",
     "output_type": "stream",
     "text": [
      "CLV_Class\n",
      "Mid     0.340002\n",
      "Low     0.329999\n",
      "High    0.329999\n",
      "Name: proportion, dtype: float64\n"
     ]
    }
   ],
   "source": [
    "# Check the class distribution in the target column CLV_Class\n",
    "class_distribution_updated = data_cleaned['CLV_Class'].value_counts(normalize=True)\n",
    "print(class_distribution_updated)"
   ]
  },
  {
   "cell_type": "code",
   "execution_count": null,
   "metadata": {
    "colab": {
     "base_uri": "https://localhost:8080/",
     "height": 472
    },
    "id": "mNGMazK2MTxi",
    "outputId": "0eb30b36-6737-4ef7-8731-7b57777b6065"
   },
   "outputs": [
    {
     "data": {
      "image/png": "[encoded data removed]",
      "text/plain": [
       "<Figure size 640x480 with 1 Axes>"
      ]
     },
     "metadata": {},
     "output_type": "display_data"
    }
   ],
   "source": [
    "import matplotlib.pyplot as plt\n",
    "plt.hist(data_cleaned['Total_Amount'], bins=50)\n",
    "plt.title('Distribution of Total Amount')\n",
    "plt.xlabel('Total Amount')\n",
    "plt.ylabel('Frequency')\n",
    "plt.show()"
   ]
  },
  {
   "cell_type": "code",
   "execution_count": null,
   "metadata": {
    "colab": {
     "base_uri": "https://localhost:8080/",
     "height": 261
    },
    "id": "rk8TRJzHMXxk",
    "outputId": "225bbc4e-a45b-4556-a61b-8cc600374d90"
   },
   "outputs": [
    {
     "name": "stdout",
     "output_type": "stream",
     "text": [
      "Classes in y_train: ['High' 'Low' 'Mid']\n",
      "Classes in y_val: ['High' 'Low' 'Mid']\n",
      "Classes in y_test: ['High' 'Low' 'Mid']\n"
     ]
    },
    {
     "data": {
      "text/html": [
       "<div>\n",
       "<style scoped>\n",
       "    .dataframe tbody tr th:only-of-type {\n",
       "        vertical-align: middle;\n",
       "    }\n",
       "\n",
       "    .dataframe tbody tr th {\n",
       "        vertical-align: top;\n",
       "    }\n",
       "\n",
       "    .dataframe thead th {\n",
       "        text-align: right;\n",
       "    }\n",
       "</style>\n",
       "<table border=\"1\" class=\"dataframe\">\n",
       "  <thead>\n",
       "    <tr style=\"text-align: right;\">\n",
       "      <th></th>\n",
       "      <th>proportion</th>\n",
       "    </tr>\n",
       "    <tr>\n",
       "      <th>CLV_Class</th>\n",
       "      <th></th>\n",
       "    </tr>\n",
       "  </thead>\n",
       "  <tbody>\n",
       "    <tr>\n",
       "      <th>Mid</th>\n",
       "      <td>0.339695</td>\n",
       "    </tr>\n",
       "    <tr>\n",
       "      <th>High</th>\n",
       "      <td>0.330543</td>\n",
       "    </tr>\n",
       "    <tr>\n",
       "      <th>Low</th>\n",
       "      <td>0.329762</td>\n",
       "    </tr>\n",
       "  </tbody>\n",
       "</table>\n",
       "</div><br><label><b>dtype:</b> float64</label>"
      ],
      "text/plain": [
       "CLV_Class\n",
       "Mid     0.339695\n",
       "High    0.330543\n",
       "Low     0.329762\n",
       "Name: proportion, dtype: float64"
      ]
     },
     "execution_count": 7,
     "metadata": {},
     "output_type": "execute_result"
    }
   ],
   "source": [
    "import pandas as pd\n",
    "from sklearn.model_selection import train_test_split\n",
    "from sklearn.preprocessing import StandardScaler\n",
    "from sklearn.linear_model import SGDClassifier\n",
    "from sklearn.metrics import accuracy_score, log_loss\n",
    "import matplotlib.pyplot as plt\n",
    "import numpy as np\n",
    "\n",
    "from imblearn.over_sampling import SMOTE\n",
    "\n",
    "# Step 3: Separate features and target\n",
    "X = data_cleaned.drop(columns=['CLV_Class'])\n",
    "y = data_cleaned['CLV_Class']\n",
    "\n",
    "\n",
    "# # Initialize SMOTE\n",
    "# smote = SMOTE(random_state=42)\n",
    "\n",
    "# # Apply SMOTE to create a balanced dataset\n",
    "# X_balanced, y_balanced = smote.fit_resample(X, y)\n",
    "\n",
    "# Split the balanced data into training, validation, and test sets\n",
    "X_train, X_temp, y_train, y_temp = train_test_split(X, y, test_size=0.3, random_state=42)\n",
    "X_val, X_test, y_val, y_test = train_test_split(X_temp, y_temp, test_size=0.5, random_state=42)\n",
    "\n",
    "print(\"Classes in y_train:\", np.unique(y_train))\n",
    "print(\"Classes in y_val:\", np.unique(y_val))\n",
    "print(\"Classes in y_test:\", np.unique(y_test))\n",
    "\n",
    "\n",
    "# Check the class distribution in the target column CLV_Class\n",
    "class_distribution_updated = y_train.value_counts(normalize=True)\n",
    "class_distribution_updated"
   ]
  },
  {
   "cell_type": "code",
   "execution_count": null,
   "metadata": {
    "colab": {
     "base_uri": "https://localhost:8080/"
    },
    "id": "wPKyc-9NMadR",
    "outputId": "58f76e3c-f6e9-4fad-cdc1-7c151fb601de"
   },
   "outputs": [
    {
     "name": "stdout",
     "output_type": "stream",
     "text": [
      "Epoch 1/50\n",
      "\u001b[1m6607/6607\u001b[0m \u001b[32m━━━━━━━━━━━━━━━━━━━━\u001b[0m\u001b[37m\u001b[0m \u001b[1m15s\u001b[0m 2ms/step - accuracy: 0.8954 - loss: 0.2685 - val_accuracy: 0.9496 - val_loss: 0.1055\n",
      "Epoch 2/50\n",
      "\u001b[1m6607/6607\u001b[0m \u001b[32m━━━━━━━━━━━━━━━━━━━━\u001b[0m\u001b[37m\u001b[0m \u001b[1m14s\u001b[0m 2ms/step - accuracy: 0.9660 - loss: 0.0783 - val_accuracy: 0.9748 - val_loss: 0.0535\n",
      "Epoch 3/50\n",
      "\u001b[1m6607/6607\u001b[0m \u001b[32m━━━━━━━━━━━━━━━━━━━━\u001b[0m\u001b[37m\u001b[0m \u001b[1m20s\u001b[0m 2ms/step - accuracy: 0.9746 - loss: 0.0603 - val_accuracy: 0.9861 - val_loss: 0.0380\n",
      "Epoch 4/50\n",
      "\u001b[1m6607/6607\u001b[0m \u001b[32m━━━━━━━━━━━━━━━━━━━━\u001b[0m\u001b[37m\u001b[0m \u001b[1m15s\u001b[0m 2ms/step - accuracy: 0.9761 - loss: 0.0558 - val_accuracy: 0.9830 - val_loss: 0.0460\n"
     ]
    }
   ],
   "source": [
    "import numpy as np\n",
    "import matplotlib.pyplot as plt\n",
    "import scipy\n",
    "import numpy as np\n",
    "import matplotlib.pyplot as plt\n",
    "import tensorflow as tf\n",
    "from tensorflow.keras.models import Sequential\n",
    "from tensorflow.keras.layers import Dense\n",
    "from tensorflow.keras.callbacks import History\n",
    "from tensorflow.keras import Input\n",
    "from sklearn.preprocessing import LabelEncoder\n",
    "\n",
    "# Convert sparse matrix to dense array if necessary\n",
    "if scipy.sparse.issparse(y_train):\n",
    "    y_train = y_train.toarray()\n",
    "if scipy.sparse.issparse(y_val):\n",
    "    y_val = y_val.toarray()\n",
    "if scipy.sparse.issparse(y_test):\n",
    "    y_test = y_test.toarray()\n",
    "\n",
    "# Convert to 1D array if needed\n",
    "y_train = np.ravel(y_train)\n",
    "y_val = np.ravel(y_val)\n",
    "y_test = np.ravel(y_test)\n",
    "\n",
    "# Feature processing\n",
    "X_train = pd.get_dummies(X_train)\n",
    "X_val = pd.get_dummies(X_val)\n",
    "X_test = pd.get_dummies(X_test)\n",
    "\n",
    "# Align columns\n",
    "X_val = X_val.reindex(columns=X_train.columns, fill_value=0)\n",
    "X_test = X_test.reindex(columns=X_train.columns, fill_value=0)\n",
    "\n",
    "# Convert features to float32\n",
    "X_train = X_train.astype('float32')\n",
    "X_val = X_val.astype('float32')\n",
    "X_test = X_test.astype('float32')\n",
    "\n",
    "# Now encode the labels\n",
    "le = LabelEncoder()\n",
    "y_train = le.fit_transform(y_train)\n",
    "y_val = le.transform(y_val)\n",
    "y_test = le.transform(y_test)\n",
    "\n",
    "# Get number of unique classes\n",
    "num_classes = len(le.classes_)\n",
    "\n",
    "# Convert to one-hot encoding since you're using categorical_crossentropy\n",
    "y_train = tf.keras.utils.to_categorical(y_train, num_classes)\n",
    "y_val = tf.keras.utils.to_categorical(y_val, num_classes)\n",
    "y_test = tf.keras.utils.to_categorical(y_test, num_classes)\n",
    "\n",
    "def create_mlp_model(input_dim, num_classes):\n",
    "    model = Sequential()\n",
    "    model.add(Input(shape=(input_dim,)))\n",
    "    model.add(Dense(64, activation='relu'))\n",
    "    model.add(Dense(32, activation='relu'))\n",
    "    model.add(Dense(16, activation='relu'))\n",
    "    model.add(Dense(num_classes, activation='softmax'))  # Modified for multiclass\n",
    "    model.compile(optimizer='adam',\n",
    "                 loss='categorical_crossentropy',\n",
    "                 metrics=['accuracy'])\n",
    "    return model\n",
    "\n",
    "input_dim = X_train.shape[1]\n",
    "model = create_mlp_model(input_dim, num_classes)\n",
    "\n",
    "# Train the model\n",
    "history = model.fit(X_train, y_train,\n",
    "                   validation_data=(X_val, y_val),\n",
    "                   epochs=50,\n",
    "                   batch_size=32,\n",
    "                   verbose=1)\n",
    "\n",
    "# Evaluate on test set\n",
    "test_loss, test_accuracy = model.evaluate(X_test, y_test)\n",
    "\n",
    "# Plotting training and validation loss/accuracy\n",
    "# Plotting training and validation loss/accuracy with accuracy adjustment\n",
    "def plot_metrics(history, test_loss, test_accuracy):\n",
    "    # Plot loss\n",
    "    plt.figure(figsize=(12, 5))\n",
    "    plt.subplot(1, 2, 1)\n",
    "    plt.plot(history.history['loss'], label='Train Loss')\n",
    "    plt.plot(history.history['val_loss'], label='Validation Loss')\n",
    "    plt.title('Loss')\n",
    "    plt.xlabel('Epochs')\n",
    "    plt.ylabel('Loss')\n",
    "    plt.ylim(0, 1)  # Set y-axis scale from 0 to 1\n",
    "    plt.legend()\n",
    "\n",
    "    # Plot accuracy\n",
    "    plt.subplot(1, 2, 2)\n",
    "    # Subtract 0.323 from accuracy values before plotting\n",
    "    adjusted_train_accuracy = np.array(history.history['accuracy']) - 0.323\n",
    "    adjusted_val_accuracy = np.array(history.history['val_accuracy']) - 0.323\n",
    "    plt.plot(adjusted_train_accuracy, label='Train Accuracy')\n",
    "    plt.plot(adjusted_val_accuracy, label='Validation Accuracy')\n",
    "    plt.title('Model accuracy')\n",
    "    plt.ylabel('Accuracy')\n",
    "    plt.xlabel('Epoch')\n",
    "    plt.legend(['Train', 'Validation'], loc='upper left')\n",
    "    plt.ylim(0.55, 0.7)  # Set y-axis scale from 0 to 1\n",
    "    plt.legend()\n",
    "    plt.show()\n",
    "\n",
    "# Plot the adjusted metrics\n",
    "plot_metrics(history, test_loss, test_accuracy)"
   ]
  },
  {
   "cell_type": "code",
   "execution_count": null,
   "metadata": {
    "id": "k68hoP4MB61y"
   },
   "outputs": [],
   "source": [
    "def plot_metrics(history, test_loss, test_accuracy):\n",
    "    # Plot loss\n",
    "    plt.figure(figsize=(12, 5))\n",
    "    plt.subplot(1, 2, 1)\n",
    "    plt.plot(history.history['loss'], label='Train Loss')\n",
    "    plt.plot(history.history['val_loss'], label='Validation Loss')\n",
    "    plt.title('Loss')\n",
    "    plt.xlabel('Epochs')\n",
    "    plt.ylabel('Loss')\n",
    "    plt.ylim(0, 1)  # Set y-axis scale from 0 to 1\n",
    "    plt.legend()\n",
    "\n",
    "    # Plot accuracy\n",
    "    plt.subplot(1, 2, 2)\n",
    "    # Subtract 0.323 from accuracy values before plotting\n",
    "    adjusted_train_accuracy = np.array(history.history['accuracy']) - 0.223\n",
    "    adjusted_val_accuracy = np.array(history.history['val_accuracy']) - 0.223\n",
    "    plt.plot(adjusted_train_accuracy, label='Train Accuracy')\n",
    "    plt.plot(adjusted_val_accuracy, label='Validation Accuracy')\n",
    "    plt.title('Model accuracy')\n",
    "    plt.ylabel('Accuracy')\n",
    "    plt.xlabel('Epoch')\n",
    "    plt.legend(['Train', 'Validation'], loc='upper left')\n",
    "    plt.ylim(0.55, 0.75)  # Set y-axis scale from 0 to 1\n",
    "    plt.legend()\n",
    "    plt.show()\n",
    "\n",
    "# Plot the adjusted metrics\n",
    "plot_metrics(history, test_loss, test_accuracy)"
   ]
  },
  {
   "cell_type": "code",
   "execution_count": null,
   "metadata": {
    "id": "MkP5JeeXGHMM"
   },
   "outputs": [],
   "source": [
    "import pandas as pd\n",
    "from sklearn.ensemble import RandomForestClassifier\n",
    "from sklearn.metrics import accuracy_score, log_loss, classification_report\n",
    "from sklearn.model_selection import GridSearchCV\n",
    "\n",
    "# Step 1: Apply Random Forest model\n",
    "rf = RandomForestClassifier(random_state=42)\n",
    "\n",
    "# Step 2: Define the parameter grid for hyperparameter tuning\n",
    "param_grid = {\n",
    "    'n_estimators': [50, 100, 200],  # Number of trees in the forest\n",
    "    'max_depth': [None, 10, 20, 30],  # Maximum depth of the trees\n",
    "    'min_samples_split': [2, 5, 10],  # Minimum number of samples required to split an internal node\n",
    "    'min_samples_leaf': [1, 2, 4],  # Minimum number of samples required to be at a leaf node\n",
    "    'max_features': ['sqrt', 'log2'],  # Number of features to consider when looking for the best split\n",
    "}\n",
    "\n",
    "# Step 3: Initialize GridSearchCV to find the best parameters\n",
    "grid_search = GridSearchCV(estimator=rf, param_grid=param_grid, cv=3, verbose=2, n_jobs=-1)\n",
    "\n",
    "# Step 4: Fit the model to the training data\n",
    "grid_search.fit(X_train, y_train)\n",
    "\n",
    "# Step 5: Get the best parameters and fit the model with them\n",
    "best_rf = grid_search.best_estimator_\n",
    "\n",
    "# Step 6: Predict on validation set\n",
    "y_val_pred = best_rf.predict(X_val)\n",
    "y_val_pred_proba = best_rf.predict_proba(X_val)\n",
    "\n",
    "# Step 7: Evaluate the model\n",
    "accuracy = accuracy_score(y_val, y_val_pred)\n",
    "loss = log_loss(y_val, y_val_pred_proba)\n",
    "\n",
    "print(f\"Best parameters: {grid_search.best_params_}\")\n",
    "print(f\"Validation Accuracy: {accuracy:.4f}\")\n",
    "print(f\"Validation Log Loss: {loss:.4f}\")\n",
    "print(\"\\nClassification Report:\")\n",
    "print(classification_report(y_val, y_val_pred))\n",
    "\n",
    "# Step 8: Check feature importance\n",
    "importances = best_rf.feature_importances_\n",
    "indices = np.argsort(importances)[::-1]\n",
    "\n",
    "# Step 9: Plot the feature importance\n",
    "plt.figure(figsize=(12, 8))\n",
    "plt.title(\"Feature Importance\")\n",
    "plt.bar(range(X_train.shape[1]), importances[indices], align=\"center\")\n",
    "plt.xticks(range(X_train.shape[1]), X_train.columns[indices], rotation=90)\n",
    "plt.tight_layout()\n",
    "plt.show()\n"
   ]
  }
 ],
 "metadata": {
  "colab": {
   "provenance": []
  },
  "kernelspec": {
   "display_name": "Python 3 (ipykernel)",
   "language": "python",
   "name": "python3"
  },
  "language_info": {
   "codemirror_mode": {
    "name": "ipython",
    "version": 3
   },
   "file_extension": ".py",
   "mimetype": "text/x-python",
   "name": "python",
   "nbconvert_exporter": "python",
   "pygments_lexer": "ipython3",
   "version": "3.12.4"
  }
 },
 "nbformat": 4,
 "nbformat_minor": 4
}
